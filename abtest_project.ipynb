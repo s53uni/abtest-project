{
 "cells": [
  {
   "cell_type": "markdown",
   "id": "667f57f9-3b22-41ce-938a-af3bd3ff7d47",
   "metadata": {},
   "source": [
    "## 라이브러리"
   ]
  },
  {
   "cell_type": "code",
   "execution_count": 1,
   "id": "f45ef926-2909-455b-8d63-0378df7a6ecc",
   "metadata": {},
   "outputs": [],
   "source": [
    "import pandas as pd\n",
    "import numpy as np\n",
    "import matplotlib.pyplot as plt\n",
    "import seaborn as sns\n",
    "\n",
    "plt.rc(\"font\", family = \"Malgun Gothic\")\n",
    "plt.rcParams[\"axes.unicode_minus\"] = False"
   ]
  },
  {
   "cell_type": "markdown",
   "id": "2dd592ce-5487-44c1-83dd-b122eff95a88",
   "metadata": {},
   "source": [
    "---"
   ]
  },
  {
   "cell_type": "markdown",
   "id": "32068e24-8812-45aa-833b-3982cfc5c8b8",
   "metadata": {},
   "source": [
    "## 데이터 불러오기"
   ]
  },
  {
   "cell_type": "markdown",
   "id": "17f7a95c-62dd-479b-9b97-baae722cf19a",
   "metadata": {},
   "source": [
    "Kaggle E-News Express<br>\n",
    "https://www.kaggle.com/datasets/mariyamalshatta/e-news-express"
   ]
  },
  {
   "cell_type": "code",
   "execution_count": 2,
   "id": "6b42f22a-25c8-43cd-a059-965de854f59f",
   "metadata": {},
   "outputs": [
    {
     "data": {
      "text/html": [
       "<div>\n",
       "<style scoped>\n",
       "    .dataframe tbody tr th:only-of-type {\n",
       "        vertical-align: middle;\n",
       "    }\n",
       "\n",
       "    .dataframe tbody tr th {\n",
       "        vertical-align: top;\n",
       "    }\n",
       "\n",
       "    .dataframe thead th {\n",
       "        text-align: right;\n",
       "    }\n",
       "</style>\n",
       "<table border=\"1\" class=\"dataframe\">\n",
       "  <thead>\n",
       "    <tr style=\"text-align: right;\">\n",
       "      <th></th>\n",
       "      <th>user_id</th>\n",
       "      <th>group</th>\n",
       "      <th>landing_page</th>\n",
       "      <th>time_spent_on_the_page</th>\n",
       "      <th>converted</th>\n",
       "      <th>language_preferred</th>\n",
       "    </tr>\n",
       "  </thead>\n",
       "  <tbody>\n",
       "    <tr>\n",
       "      <th>0</th>\n",
       "      <td>546592</td>\n",
       "      <td>control</td>\n",
       "      <td>old</td>\n",
       "      <td>3.48</td>\n",
       "      <td>no</td>\n",
       "      <td>Spanish</td>\n",
       "    </tr>\n",
       "    <tr>\n",
       "      <th>1</th>\n",
       "      <td>546468</td>\n",
       "      <td>treatment</td>\n",
       "      <td>new</td>\n",
       "      <td>7.13</td>\n",
       "      <td>yes</td>\n",
       "      <td>English</td>\n",
       "    </tr>\n",
       "    <tr>\n",
       "      <th>2</th>\n",
       "      <td>546462</td>\n",
       "      <td>treatment</td>\n",
       "      <td>new</td>\n",
       "      <td>4.40</td>\n",
       "      <td>no</td>\n",
       "      <td>Spanish</td>\n",
       "    </tr>\n",
       "    <tr>\n",
       "      <th>3</th>\n",
       "      <td>546567</td>\n",
       "      <td>control</td>\n",
       "      <td>old</td>\n",
       "      <td>3.02</td>\n",
       "      <td>no</td>\n",
       "      <td>French</td>\n",
       "    </tr>\n",
       "    <tr>\n",
       "      <th>4</th>\n",
       "      <td>546459</td>\n",
       "      <td>treatment</td>\n",
       "      <td>new</td>\n",
       "      <td>4.75</td>\n",
       "      <td>yes</td>\n",
       "      <td>Spanish</td>\n",
       "    </tr>\n",
       "  </tbody>\n",
       "</table>\n",
       "</div>"
      ],
      "text/plain": [
       "   user_id      group landing_page  time_spent_on_the_page converted  \\\n",
       "0   546592    control          old                    3.48        no   \n",
       "1   546468  treatment          new                    7.13       yes   \n",
       "2   546462  treatment          new                    4.40        no   \n",
       "3   546567    control          old                    3.02        no   \n",
       "4   546459  treatment          new                    4.75       yes   \n",
       "\n",
       "  language_preferred  \n",
       "0            Spanish  \n",
       "1            English  \n",
       "2            Spanish  \n",
       "3             French  \n",
       "4            Spanish  "
      ]
     },
     "execution_count": 2,
     "metadata": {},
     "output_type": "execute_result"
    }
   ],
   "source": [
    "# 데이터 불러오기\n",
    "abtest_df = pd.read_csv('./data/abtest.csv')\n",
    "abtest_df.head()"
   ]
  },
  {
   "cell_type": "markdown",
   "id": "eb1274e2-2094-4f09-bc35-c34b100e3475",
   "metadata": {},
   "source": [
    "- user_id: 사용자 ID\n",
    "- group: 사용자가 속한 그룹\n",
    "- landing_page: 사용자가 방문한 랜딩 페이지 유형\n",
    "- time_spent_on_the_page: 사용자가 페이지에 체류한 시간(분)\n",
    "- converted: 사용자가 뉴스 포털 구독자로 전환되었는지 여부\n",
    "- language_preferred: 사용자가 랜딩 페이지를 보려고 선택한 언어"
   ]
  },
  {
   "cell_type": "code",
   "execution_count": 3,
   "id": "6c8a87ab-f3e5-4c2a-98f9-11d8697b576d",
   "metadata": {},
   "outputs": [
    {
     "name": "stdout",
     "output_type": "stream",
     "text": [
      "<class 'pandas.core.frame.DataFrame'>\n",
      "RangeIndex: 100 entries, 0 to 99\n",
      "Data columns (total 6 columns):\n",
      " #   Column                  Non-Null Count  Dtype  \n",
      "---  ------                  --------------  -----  \n",
      " 0   user_id                 100 non-null    int64  \n",
      " 1   group                   100 non-null    object \n",
      " 2   landing_page            100 non-null    object \n",
      " 3   time_spent_on_the_page  100 non-null    float64\n",
      " 4   converted               100 non-null    object \n",
      " 5   language_preferred      100 non-null    object \n",
      "dtypes: float64(1), int64(1), object(4)\n",
      "memory usage: 4.8+ KB\n"
     ]
    }
   ],
   "source": [
    "# 데이터 정보 확인\n",
    "abtest_df.info()"
   ]
  },
  {
   "cell_type": "code",
   "execution_count": 4,
   "id": "6ce03064-443d-491b-971d-8a15dd7133e9",
   "metadata": {},
   "outputs": [
    {
     "data": {
      "text/html": [
       "<div>\n",
       "<style scoped>\n",
       "    .dataframe tbody tr th:only-of-type {\n",
       "        vertical-align: middle;\n",
       "    }\n",
       "\n",
       "    .dataframe tbody tr th {\n",
       "        vertical-align: top;\n",
       "    }\n",
       "\n",
       "    .dataframe thead th {\n",
       "        text-align: right;\n",
       "    }\n",
       "</style>\n",
       "<table border=\"1\" class=\"dataframe\">\n",
       "  <thead>\n",
       "    <tr style=\"text-align: right;\">\n",
       "      <th></th>\n",
       "      <th>user_id</th>\n",
       "      <th>group</th>\n",
       "      <th>landing_page</th>\n",
       "      <th>time_spent_on_the_page</th>\n",
       "      <th>converted</th>\n",
       "      <th>language_preferred</th>\n",
       "    </tr>\n",
       "  </thead>\n",
       "  <tbody>\n",
       "    <tr>\n",
       "      <th>count</th>\n",
       "      <td>100.000000</td>\n",
       "      <td>100</td>\n",
       "      <td>100</td>\n",
       "      <td>100.000000</td>\n",
       "      <td>100</td>\n",
       "      <td>100</td>\n",
       "    </tr>\n",
       "    <tr>\n",
       "      <th>unique</th>\n",
       "      <td>NaN</td>\n",
       "      <td>2</td>\n",
       "      <td>2</td>\n",
       "      <td>NaN</td>\n",
       "      <td>2</td>\n",
       "      <td>3</td>\n",
       "    </tr>\n",
       "    <tr>\n",
       "      <th>top</th>\n",
       "      <td>NaN</td>\n",
       "      <td>control</td>\n",
       "      <td>old</td>\n",
       "      <td>NaN</td>\n",
       "      <td>yes</td>\n",
       "      <td>Spanish</td>\n",
       "    </tr>\n",
       "    <tr>\n",
       "      <th>freq</th>\n",
       "      <td>NaN</td>\n",
       "      <td>50</td>\n",
       "      <td>50</td>\n",
       "      <td>NaN</td>\n",
       "      <td>54</td>\n",
       "      <td>34</td>\n",
       "    </tr>\n",
       "    <tr>\n",
       "      <th>mean</th>\n",
       "      <td>546517.000000</td>\n",
       "      <td>NaN</td>\n",
       "      <td>NaN</td>\n",
       "      <td>5.377800</td>\n",
       "      <td>NaN</td>\n",
       "      <td>NaN</td>\n",
       "    </tr>\n",
       "    <tr>\n",
       "      <th>std</th>\n",
       "      <td>52.295779</td>\n",
       "      <td>NaN</td>\n",
       "      <td>NaN</td>\n",
       "      <td>2.378166</td>\n",
       "      <td>NaN</td>\n",
       "      <td>NaN</td>\n",
       "    </tr>\n",
       "    <tr>\n",
       "      <th>min</th>\n",
       "      <td>546443.000000</td>\n",
       "      <td>NaN</td>\n",
       "      <td>NaN</td>\n",
       "      <td>0.190000</td>\n",
       "      <td>NaN</td>\n",
       "      <td>NaN</td>\n",
       "    </tr>\n",
       "    <tr>\n",
       "      <th>25%</th>\n",
       "      <td>546467.750000</td>\n",
       "      <td>NaN</td>\n",
       "      <td>NaN</td>\n",
       "      <td>3.880000</td>\n",
       "      <td>NaN</td>\n",
       "      <td>NaN</td>\n",
       "    </tr>\n",
       "    <tr>\n",
       "      <th>50%</th>\n",
       "      <td>546492.500000</td>\n",
       "      <td>NaN</td>\n",
       "      <td>NaN</td>\n",
       "      <td>5.415000</td>\n",
       "      <td>NaN</td>\n",
       "      <td>NaN</td>\n",
       "    </tr>\n",
       "    <tr>\n",
       "      <th>75%</th>\n",
       "      <td>546567.250000</td>\n",
       "      <td>NaN</td>\n",
       "      <td>NaN</td>\n",
       "      <td>7.022500</td>\n",
       "      <td>NaN</td>\n",
       "      <td>NaN</td>\n",
       "    </tr>\n",
       "    <tr>\n",
       "      <th>max</th>\n",
       "      <td>546592.000000</td>\n",
       "      <td>NaN</td>\n",
       "      <td>NaN</td>\n",
       "      <td>10.710000</td>\n",
       "      <td>NaN</td>\n",
       "      <td>NaN</td>\n",
       "    </tr>\n",
       "  </tbody>\n",
       "</table>\n",
       "</div>"
      ],
      "text/plain": [
       "              user_id    group landing_page  time_spent_on_the_page converted  \\\n",
       "count      100.000000      100          100              100.000000       100   \n",
       "unique            NaN        2            2                     NaN         2   \n",
       "top               NaN  control          old                     NaN       yes   \n",
       "freq              NaN       50           50                     NaN        54   \n",
       "mean    546517.000000      NaN          NaN                5.377800       NaN   \n",
       "std         52.295779      NaN          NaN                2.378166       NaN   \n",
       "min     546443.000000      NaN          NaN                0.190000       NaN   \n",
       "25%     546467.750000      NaN          NaN                3.880000       NaN   \n",
       "50%     546492.500000      NaN          NaN                5.415000       NaN   \n",
       "75%     546567.250000      NaN          NaN                7.022500       NaN   \n",
       "max     546592.000000      NaN          NaN               10.710000       NaN   \n",
       "\n",
       "       language_preferred  \n",
       "count                 100  \n",
       "unique                  3  \n",
       "top               Spanish  \n",
       "freq                   34  \n",
       "mean                  NaN  \n",
       "std                   NaN  \n",
       "min                   NaN  \n",
       "25%                   NaN  \n",
       "50%                   NaN  \n",
       "75%                   NaN  \n",
       "max                   NaN  "
      ]
     },
     "execution_count": 4,
     "metadata": {},
     "output_type": "execute_result"
    }
   ],
   "source": [
    "# 데이터 기초 통계량 확인\n",
    "abtest_df.describe(include='all')"
   ]
  },
  {
   "cell_type": "markdown",
   "id": "f1134182-ab47-4edb-ab90-d9ac7525f688",
   "metadata": {},
   "source": [
    "---"
   ]
  },
  {
   "cell_type": "markdown",
   "id": "fba61ef2-84c4-46b2-be31-c02fbf3d5030",
   "metadata": {},
   "source": [
    "## 탐색적 데이터 분석"
   ]
  },
  {
   "cell_type": "code",
   "execution_count": 5,
   "id": "1a41737e-4950-42ee-a1ab-3d678390500c",
   "metadata": {},
   "outputs": [
    {
     "data": {
      "text/plain": [
       "user_id                   0\n",
       "group                     0\n",
       "landing_page              0\n",
       "time_spent_on_the_page    0\n",
       "converted                 0\n",
       "language_preferred        0\n",
       "dtype: int64"
      ]
     },
     "execution_count": 5,
     "metadata": {},
     "output_type": "execute_result"
    }
   ],
   "source": [
    "# 결측치 확인\n",
    "abtest_df.isnull().sum()"
   ]
  },
  {
   "cell_type": "code",
   "execution_count": 6,
   "id": "c8730650-df63-44c9-9c0f-20307962f8fc",
   "metadata": {},
   "outputs": [
    {
     "data": {
      "text/plain": [
       "0"
      ]
     },
     "execution_count": 6,
     "metadata": {},
     "output_type": "execute_result"
    }
   ],
   "source": [
    "# 중복값 확인\n",
    "abtest_df.duplicated().sum()"
   ]
  },
  {
   "cell_type": "code",
   "execution_count": 7,
   "id": "dce6b1f4-b519-41c9-abb2-08ae3a18bfc8",
   "metadata": {},
   "outputs": [
    {
     "data": {
      "image/png": "[encoded data removed]",
      "text/plain": [
       "<Figure size 1000x600 with 1 Axes>"
      ]
     },
     "metadata": {},
     "output_type": "display_data"
    }
   ],
   "source": [
    "# 1. 페이지 체류 시간의 분포\n",
    "plt.figure(figsize=(10, 6))\n",
    "plt.hist(abtest_df['time_spent_on_the_page'], bins=20, edgecolor='black', color='lightblue')\n",
    "plt.title('페이지 체류 시간 분포')\n",
    "plt.xlabel('시간 (분)')\n",
    "plt.ylabel('빈도')\n",
    "plt.grid(axis='y', linestyle='--', alpha=0.5)\n",
    "plt.savefig('./savefig/페이지_체류시간_분포.png')"
   ]
  },
  {
   "cell_type": "markdown",
   "id": "a159c454-2e6c-428c-bb85-34bf527c7a4f",
   "metadata": {},
   "source": [
    "- 대부분의 사용자들은 페이지에 4분에서 8분 사이 머물고 있음"
   ]
  },
  {
   "cell_type": "code",
   "execution_count": 8,
   "id": "0c4b2a6d-185c-4466-b7ab-c8b1a4a86da0",
   "metadata": {},
   "outputs": [
    {
     "data": {
      "image/png": "[encoded data removed]",
      "text/plain": [
       "<Figure size 1000x500 with 1 Axes>"
      ]
     },
     "metadata": {},
     "output_type": "display_data"
    }
   ],
   "source": [
    "# 2. 그룹별 전환율\n",
    "plt.figure(figsize=(10, 5))\n",
    "abtest_df['converted'] = abtest_df['converted'].map({'yes': 1, 'no': 0})\n",
    "group_conversion = abtest_df.groupby('group')['converted'].mean()\n",
    "group_conversion.plot(kind='bar', color=['skyblue', 'lightgreen'], edgecolor='black')\n",
    "plt.title('그룹별 전환율')\n",
    "plt.xlabel('그룹')\n",
    "plt.ylabel('전환율')\n",
    "plt.xticks(rotation=0)\n",
    "plt.grid(axis='y', linestyle='--', alpha=0.5)\n",
    "plt.savefig('./savefig/그룹별_전환율.png')"
   ]
  },
  {
   "cell_type": "markdown",
   "id": "e7913a05-0805-4601-81ad-d32eccf8dfb7",
   "metadata": {},
   "source": [
    "- 실험군(Treatment) 그룹이 대조군(Control) 그룹보다 약간 높은 전환율을 보임"
   ]
  },
  {
   "cell_type": "code",
   "execution_count": 9,
   "id": "3fc93165-e4f9-4719-9994-26b5286ecaa6",
   "metadata": {},
   "outputs": [
    {
     "data": {
      "image/png": "[encoded data removed]",
      "text/plain": [
       "<Figure size 1000x500 with 1 Axes>"
      ]
     },
     "metadata": {},
     "output_type": "display_data"
    }
   ],
   "source": [
    "# 3. 언어 선호도 분포\n",
    "plt.figure(figsize=(10, 5))\n",
    "language_distribution = abtest_df['language_preferred'].value_counts()\n",
    "language_distribution.plot(kind='bar', color='coral', edgecolor='black')\n",
    "plt.title('언어 선호도 분포')\n",
    "plt.xlabel('언어')\n",
    "plt.ylabel('사용자 수')\n",
    "plt.xticks(rotation=0)\n",
    "plt.grid(axis='y', linestyle='--', alpha=0.5)\n",
    "plt.savefig('./savefig/언어_선호도_분포.png')"
   ]
  },
  {
   "cell_type": "markdown",
   "id": "145dd4d6-ef4f-4f21-b7ce-4002adf52c4c",
   "metadata": {},
   "source": [
    "- 사용자의 언어 선호도는 거의 균등하게 분포되어 있음"
   ]
  },
  {
   "cell_type": "markdown",
   "id": "d2040200-cd86-4686-8abd-2bca80cec869",
   "metadata": {},
   "source": [
    "---"
   ]
  },
  {
   "cell_type": "markdown",
   "id": "fadc4d8e-b324-45ff-8d53-4ae22d62a90c",
   "metadata": {},
   "source": [
    "## A/B Test 및 통계적 분석"
   ]
  },
  {
   "cell_type": "markdown",
   "id": "0daf27b8-365c-4aa5-80bd-181de4c2ac01",
   "metadata": {},
   "source": [
    "### 1. 평균 페이지 체류 시간 차이 검정\n",
    "독립표본 t-검정(Independent Sample t-test)"
   ]
  },
  {
   "cell_type": "markdown",
   "id": "e984bb70-24db-4c63-b092-f5b3fe5ca290",
   "metadata": {},
   "source": [
    "- **귀무 가설(H0)**: 두 그룹의 평균 페이지 체류 시간 차이가 없다.\n",
    "- **대립 가설(H1)**: 두 그룹의 평균 페이지 체류 시간 차이가 있다."
   ]
  },
  {
   "cell_type": "code",
   "execution_count": 10,
   "id": "946419eb-eb15-46e8-916e-278a8df43d90",
   "metadata": {},
   "outputs": [
    {
     "name": "stdout",
     "output_type": "stream",
     "text": [
      "t-통계량: -3.7867702694199856\n",
      "p-값: 0.000263224705619001\n",
      "두 그룹 간 평균 페이지 체류 시간에 유의미한 차이가 있음\n"
     ]
    }
   ],
   "source": [
    "from scipy.stats import ttest_ind\n",
    "\n",
    "# Control 그룹과 Treatment 그룹의 페이지 체류 시간\n",
    "control_time = abtest_df[abtest_df['group'] == 'control']['time_spent_on_the_page']\n",
    "treatment_time = abtest_df[abtest_df['group'] == 'treatment']['time_spent_on_the_page']\n",
    "\n",
    "# 독립표본 t-검정 수행\n",
    "t_stat, p_value = ttest_ind(control_time, treatment_time)\n",
    "\n",
    "# 결과 출력\n",
    "print(\"t-통계량:\", t_stat)\n",
    "print(\"p-값:\", p_value)\n",
    "\n",
    "# 유의수준 0.05 하에서 유의미한 차이가 있는지 판단\n",
    "if p_value < 0.05:\n",
    "    print(\"두 그룹 간 평균 페이지 체류 시간에 유의미한 차이가 있음\")\n",
    "else:\n",
    "    print(\"두 그룹 간 평균 페이지 체류 시간에 유의미한 차이가 없음\")"
   ]
  },
  {
   "cell_type": "code",
   "execution_count": 11,
   "id": "91cedfe2-83f1-427e-853c-a70dffc09a2b",
   "metadata": {},
   "outputs": [
    {
     "name": "stdout",
     "output_type": "stream",
     "text": [
      "대조군 평균 페이지 체류 시간: 4.53\n",
      "실험군 평균 페이지 체류 시간: 6.22\n"
     ]
    }
   ],
   "source": [
    "# 평균 페이지 체류 시간 확인\n",
    "print(\"대조군 평균 페이지 체류 시간:\", round(control_time.mean(), 2))\n",
    "print(\"실험군 평균 페이지 체류 시간:\", round(treatment_time.mean(), 2))"
   ]
  },
  {
   "cell_type": "markdown",
   "id": "bb506571-274a-4ce1-80cb-96c022c61cfa",
   "metadata": {},
   "source": [
    "- 실험군의 페이지 체류 시간이 대조군보다 약 37.31% 더 길어졌음\n",
    "- 이는 새로운 랜딩 페이지가 사용자 참여도를 높이는 데 효과적일 가능성이 있음"
   ]
  },
  {
   "cell_type": "markdown",
   "id": "72d6c045-2189-4b98-bc9f-b60e3983ca16",
   "metadata": {},
   "source": [
    "### 2. 전환율 차이 검정\n",
    "카이제곱 검정(Chi-square Test)"
   ]
  },
  {
   "cell_type": "markdown",
   "id": "9f50ada9-1fd2-4c9d-8311-b4b70ffcd4ae",
   "metadata": {},
   "source": [
    "- **귀무 가설(H0)**: 두 그룹의 전환율 차이가 없다.\n",
    "- **대립 가설(H1)**: 두 그룹의 전환율 차이가 있다."
   ]
  },
  {
   "cell_type": "code",
   "execution_count": 12,
   "id": "71ee2c9f-991c-48fe-a81d-98384f33c236",
   "metadata": {},
   "outputs": [
    {
     "name": "stdout",
     "output_type": "stream",
     "text": [
      "카이제곱 통계량: 4.871175523349437\n",
      "p-값: 0.02730889175492232\n",
      "두 그룹 간에 전환율의 유의미한 차이가 있음\n"
     ]
    }
   ],
   "source": [
    "from scipy.stats import chi2_contingency\n",
    "\n",
    "# 컨트롤 그룹과 트리트먼트 그룹의 전환 여부 테이블 생성\n",
    "conversion_table = pd.crosstab(abtest_df['group'], abtest_df['converted'])\n",
    "\n",
    "# 카이제곱 검정 수행\n",
    "chi2, p, dof, expected = chi2_contingency(conversion_table)\n",
    "\n",
    "# 결과 출력\n",
    "print(\"카이제곱 통계량:\", chi2)\n",
    "print(\"p-값:\", p)\n",
    "\n",
    "# 유의수준 0.05 하에서 유의미한 차이가 있는지 판단\n",
    "if p < 0.05:\n",
    "    print(\"두 그룹 간에 전환율의 유의미한 차이가 있음\")\n",
    "else:\n",
    "    print(\"두 그룹 간에 전환율의 유의미한 차이가 없음\")"
   ]
  },
  {
   "cell_type": "code",
   "execution_count": 13,
   "id": "8037daba-1b44-415c-97ae-789ba58cb672",
   "metadata": {},
   "outputs": [
    {
     "data": {
      "text/plain": [
       "group\n",
       "control      0.42\n",
       "treatment    0.66\n",
       "Name: converted, dtype: float64"
      ]
     },
     "execution_count": 13,
     "metadata": {},
     "output_type": "execute_result"
    }
   ],
   "source": [
    "# 그룹별 전환율 확인\n",
    "abtest_df.groupby('group')['converted'].mean()"
   ]
  },
  {
   "cell_type": "markdown",
   "id": "c67a8825-5785-4e2c-84e2-20bd473cfe1c",
   "metadata": {},
   "source": [
    "- 실험군의 전환율이 대조군보다 약 57.14% 높아졌음\n",
    "- 이는 새로운 랜딩 페이지가 사용자에게 더 나은 경험을 제공할 가능성이 있음"
   ]
  },
  {
   "cell_type": "markdown",
   "id": "af9e5244-e986-4a81-9228-907a5e0695c2",
   "metadata": {},
   "source": [
    "### 3. 언어 선호도에 따른 분석\n",
    "3-1. ANOVA 분석: 언어에 따른 페이지 체류 시간"
   ]
  },
  {
   "cell_type": "markdown",
   "id": "9ae39177-e023-4954-82ad-93fe9841008c",
   "metadata": {},
   "source": [
    "- **귀무 가설(H0)**: 사용자가 선호하는 언어에 따라 페이지 체류 시간 차이가 없다.\n",
    "- **대립 가설(H1)**: 사용자가 선호하는 언어에 따라 페이지 체류 시간 차이가 있다."
   ]
  },
  {
   "cell_type": "code",
   "execution_count": 14,
   "id": "e769bcea-013e-431d-a14e-83a7a437a38c",
   "metadata": {},
   "outputs": [
    {
     "name": "stdout",
     "output_type": "stream",
     "text": [
      "ANOVA 통계량: 0.14343439221240437\n",
      "p-값: 0.8665610536012649\n",
      "언어별 페이지 체류 시간에 유의미한 차이가 없음\n"
     ]
    }
   ],
   "source": [
    "from scipy.stats import f_oneway\n",
    "\n",
    "# 언어별 페이지 체류 시간 그룹화\n",
    "english_time = abtest_df[abtest_df['language_preferred'] == 'English']['time_spent_on_the_page']\n",
    "spanish_time = abtest_df[abtest_df['language_preferred'] == 'Spanish']['time_spent_on_the_page']\n",
    "french_time = abtest_df[abtest_df['language_preferred'] == 'French']['time_spent_on_the_page']\n",
    "\n",
    "# ANOVA 검정 수행\n",
    "anova_stat, anova_p_value = f_oneway(english_time, spanish_time, french_time)\n",
    "\n",
    "# 결과 출력\n",
    "print(\"ANOVA 통계량:\", anova_stat)\n",
    "print(\"p-값:\", anova_p_value)\n",
    "\n",
    "# 유의수준 0.05 하에서 유의미한 차이가 있는지 판단\n",
    "if anova_p_value < 0.05:\n",
    "    print(\"언어별 페이지 체류 시간에 유의미한 차이가 있음\")\n",
    "else:\n",
    "    print(\"언어별 페이지 체류 시간에 유의미한 차이가 없음\")"
   ]
  },
  {
   "cell_type": "code",
   "execution_count": 15,
   "id": "cee65dfa-f725-4c78-97ae-81dbbf76e417",
   "metadata": {},
   "outputs": [
    {
     "name": "stdout",
     "output_type": "stream",
     "text": [
      "5.5590625 5.331764705882352 5.253235294117647\n"
     ]
    }
   ],
   "source": [
    "# 언어별 평균 페이지 체류시간 확인\n",
    "print(english_time.mean(), spanish_time.mean(), french_time.mean())"
   ]
  },
  {
   "cell_type": "markdown",
   "id": "773141c8-c1f1-4221-ab19-01032f094884",
   "metadata": {},
   "source": [
    "- 사용자가 선호하는 언어는 페이지 체류 시간에 크게 영항을 미치지 않는 것으로 보임"
   ]
  },
  {
   "cell_type": "markdown",
   "id": "e13329e4-a987-411f-a9f8-3f687343f312",
   "metadata": {},
   "source": [
    "3-2. 카이제곱 검정: 언어에 따른 전환율"
   ]
  },
  {
   "cell_type": "markdown",
   "id": "dfb5377c-7255-40bd-a65b-e962f6d3783a",
   "metadata": {},
   "source": [
    "- **귀무 가설(H0)**: 사용자가 선호하는 언어에 따라 전환율 차이가 없다.\n",
    "- **대립 가설(H1)**: 사용자가 선호하는 언어에 따라 전환율 차이가 있다."
   ]
  },
  {
   "cell_type": "code",
   "execution_count": 16,
   "id": "5b781d09-753d-4f01-b89c-2250cd82690a",
   "metadata": {},
   "outputs": [
    {
     "name": "stdout",
     "output_type": "stream",
     "text": [
      "카이제곱 통계량: 3.0930306905370832\n",
      "p-값: 0.2129888748754345\n",
      "언어별 전환율에 유의미한 차이가 없음\n"
     ]
    }
   ],
   "source": [
    "# 언어별 전환 여부 테이블 생성\n",
    "language_conversion_table = pd.crosstab(abtest_df['language_preferred'], abtest_df['converted'])\n",
    "\n",
    "# 카이제곱 검정 수행\n",
    "chi2_lang, p_lang, dof_lang, expected_lang = chi2_contingency(language_conversion_table)\n",
    "\n",
    "# 결과 출력\n",
    "print(\"카이제곱 통계량:\", chi2_lang)\n",
    "print(\"p-값:\", p_lang)\n",
    "\n",
    "# 유의수준 0.05 하에서 유의미한 차이가 있는지 판단\n",
    "if p_lang < 0.05:\n",
    "    print(\"언어별 전환율에 유의미한 차이가 있음\")\n",
    "else:\n",
    "    print(\"언어별 전환율에 유의미한 차이가 없음\")"
   ]
  },
  {
   "cell_type": "markdown",
   "id": "39e6916b-da24-4b0d-85ad-c3297afcd42b",
   "metadata": {},
   "source": [
    "- 사용자가 선호하는 언어는 전환율에 크게 영향을 미치지 않는 것으로 보임\n",
    "- 이는 언어적 측면보다 다른 요인이 사용자 행동에 더 큰 영향을 미칠 수 있음을 나타냄"
   ]
  },
  {
   "cell_type": "markdown",
   "id": "0954e6ef-9d9f-4057-8dad-f6fc9b90a695",
   "metadata": {},
   "source": [
    "### 4. 페이지 체류 시간과 전환 여부의 상관관계"
   ]
  },
  {
   "cell_type": "markdown",
   "id": "a2060319-f429-47cd-8025-5df1b1a2ae9e",
   "metadata": {},
   "source": [
    "피어슨 상관 계수(Pearson Correlation Coefficient) 확인"
   ]
  },
  {
   "cell_type": "markdown",
   "id": "073433d0-fd80-4d51-a91b-790a5c69a53d",
   "metadata": {},
   "source": [
    "- **귀무 가설(H0)**: 페이지 체류 시간과 전환율 사이에 상관관계가 없다.\n",
    "- **대립 가설(H1)**: 페이지 체류 시간과 전환율 사이에 상관관계가 있다."
   ]
  },
  {
   "cell_type": "code",
   "execution_count": 17,
   "id": "e721d70a-be1c-48f8-a88d-130f21c8eafa",
   "metadata": {},
   "outputs": [
    {
     "name": "stdout",
     "output_type": "stream",
     "text": [
      "상관계수: 0.5702285607656761\n",
      "p-값: 5.907378187464741e-10\n",
      "페이지 체류 시간과 전환 여부 간의 유의미한 상관관계가 있음\n"
     ]
    }
   ],
   "source": [
    "from scipy.stats import pearsonr\n",
    "\n",
    "# 페이지에 체류 시간과 전환 여부의 상관관계 분석\n",
    "correlation, p_value_corr = pearsonr(abtest_df['time_spent_on_the_page'], abtest_df['converted'])\n",
    "\n",
    "# 결과 출력\n",
    "print(\"상관계수:\", correlation)\n",
    "print(\"p-값:\", p_value_corr)\n",
    "\n",
    "# 유의수준 0.05 하에서 상관관계가 유의미한지 판단\n",
    "if p_value_corr < 0.05:\n",
    "    print(\"페이지 체류 시간과 전환 여부 간의 유의미한 상관관계가 있음\")\n",
    "else:\n",
    "    print(\"페이지 체류 시간과 전환 여부 간의 유의미한 상관관계가 없음\")"
   ]
  },
  {
   "cell_type": "markdown",
   "id": "a3e98818-ae66-4c15-bab6-84b0e174db35",
   "metadata": {},
   "source": [
    "- 페이지 체류 시간과 전환율은 양의 상관관계가 있으며, 페이지 체류 시간이 길수록 전환 가능성이 높음"
   ]
  },
  {
   "cell_type": "markdown",
   "id": "4faf1e41-05c8-4c56-b4f6-b00cde492596",
   "metadata": {},
   "source": [
    "---"
   ]
  },
  {
   "cell_type": "markdown",
   "id": "20f7a60f-0c33-40df-9f17-477bb9a505da",
   "metadata": {},
   "source": [
    "## 결론"
   ]
  },
  {
   "cell_type": "markdown",
   "id": "a5e2355e-9eec-440f-999e-d7e026c15033",
   "metadata": {},
   "source": [
    "- 실험군이 대조군보다 더 높은 페이지 체류 시간과 전환율을 보였으며, 새로운 랜딩 페이지는 사용자 참여도와 전환율을 개선하는 데 긍정적인 영향을 끼쳤음을 나타냄\n",
    "- 페이지 체류 시간은 전환율에 중요한 요인으로 작용하며, 사용자 경험을 향상시키고 페이지 체류 시간을 늘릴 전략을 고려해야 함\n",
    "- 언어 선호도는 페이지 체류 시간과 전환율에 유의미한 영향을 미치지 않는 것으로 나타났으며, 이는 언어적 측면보다 다른 요인이 사용자 행동에 더 큰 영향을 미칠 수 있음을 시사함"
   ]
  },
  {
   "cell_type": "markdown",
   "id": "85ccc28c-9fe3-4f99-9183-fd96dfbf0665",
   "metadata": {},
   "source": [
    "이 결론을 바탕으로, 새로운 랜딩 페이지를 발전시키기 위해서는 페이지 체류 시간과 사용자 경험을 최적화할 수 있는 다양한 방안을 모색해야 한다. 사용자들이 페이지에 머무는 시간이 길어질수록 회사에 대한 신뢰도가 높아지고, 전환율 상승으로 이어질 가능성이 크다. 따라서, 직관적인 디자인과 빠른 로딩 속도, 사용자 친화적인 인터페이스를 통해 긍정적인 사용자 경험을 제공해야 한다.\n",
    "\n",
    "또한, 전환율에 영향을 미치는 다른 요인들도 분석할 필요가 있다. 이를 통해 사용자 행동 패턴과 선호도를 이해하고, 이를 바탕으로 맞춤형 전략을 개발할 수 있다."
   ]
  },
  {
   "cell_type": "markdown",
   "id": "020fa8af-516e-438c-a44a-12b054ee4c75",
   "metadata": {},
   "source": [
    "#### 전략 제안"
   ]
  },
  {
   "cell_type": "markdown",
   "id": "c4f08665-93f5-49a8-96ac-0a408d7b3259",
   "metadata": {},
   "source": [
    "1. 페이지 체류 시간 증가 전략\n",
    "- 콘텐츠 강화: 유익하고 흥미로운 콘텐츠를 제공하여 사용자가 더 오래 머무르게 한다. 심층 분석 기사, 인터뷰, 독점 기사 등을 추가하여 관심을 끌어 모은다.\n",
    "- 추천 콘텐츠: 사용자가 관심을 가질 만한 관련 뉴스 기사나 주제를 추천하여 페이지 체류 시간을 늘리고 구독 전환 가능성을 높인다.\n",
    "\n",
    "2. 사용자 경험 최적화\n",
    "- 빠른 로딩 속도: 페이지 로딩 속도를 최적화하여 사용자 이탈을 방지한다.\n",
    "- 직관적 디자인: 주요 정보와 구독 유도 버튼을 눈에 잘 띄게 배치하고, 직관적인 디자인을 채택하여 사용자가 쉽게 탐색할 수 있도록 한다."
   ]
  }
 ],
 "metadata": {
  "kernelspec": {
   "display_name": "project_kernel",
   "language": "python",
   "name": "project"
  },
  "language_info": {
   "codemirror_mode": {
    "name": "ipython",
    "version": 3
   },
   "file_extension": ".py",
   "mimetype": "text/x-python",
   "name": "python",
   "nbconvert_exporter": "python",
   "pygments_lexer": "ipython3",
   "version": "3.9.18"
  }
 },
 "nbformat": 4,
 "nbformat_minor": 5
}
